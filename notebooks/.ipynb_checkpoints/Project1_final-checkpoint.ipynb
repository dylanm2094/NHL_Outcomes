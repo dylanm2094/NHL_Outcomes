{
 "cells": [
  {
   "cell_type": "markdown",
   "metadata": {},
   "source": [
    "# Import Dependencies and data \n",
    "#### Read the data using pandas "
   ]
  },
  {
   "cell_type": "code",
   "execution_count": 1,
   "metadata": {},
   "outputs": [],
   "source": [
    "# Dependencies and Setup\n",
    "import matplotlib.pyplot as plt\n",
    "import pandas as pd\n",
    "import scipy.stats as st\n",
    "import numpy as np\n",
    "from sklearn import tree"
   ]
  },
  {
   "cell_type": "code",
   "execution_count": null,
   "metadata": {},
   "outputs": [],
   "source": [
    "# Study data files\n",
    "data1 = \"../Data/nhl odds 2014-15.csv\"\n",
    "data2 = \"../Data/nhl odds 2015-16.csv\"\n",
    "data3 = \"../Data/nhl odds 2016-17.csv\"\n",
    "data4 = \"../Data/nhl odds 2017-18.csv\"\n",
    "data5 = \"../Data/nhl odds 2018-19.csv\"\n",
    "data6 = \"../Data/nhl odds 2019-20.csv\"\n",
    "\n",
    "# Read the mouse data and the study results\n",
    "data1 = pd.read_csv(data1)\n",
    "data2 = pd.read_csv(data2)\n",
    "data3 = pd.read_csv(data3)\n",
    "data4 = pd.read_csv(data4)\n",
    "data5 = pd.read_csv(data5)\n",
    "data6 = pd.read_csv(data6)\n",
    "\n",
    "data6 = data6.rename(columns={\"PuckLine\": \"Puck Line\", \"OpenOU\": \"Open OU\", \"CloseOU\": \"Close OU\"})\n",
    "\n",
    "frames = [data1, data2, data3, data4, data5, data6]\n"
   ]
  },
  {
   "cell_type": "markdown",
   "metadata": {},
   "source": [
    "# Merge all the different seasons "
   ]
  },
  {
   "cell_type": "code",
   "execution_count": null,
   "metadata": {},
   "outputs": [],
   "source": [
    "def set_win(row):\n",
    "    if row['Point Dif'] > 0:\n",
    "        return 1\n",
    "    else:\n",
    "        return 0\n",
    "\n",
    "# Create row to see who won or loss by checking the point diferential was positive or negative.\n",
    "def set_win_pl(row):\n",
    "    if row['Point Dif'] >= 2:\n",
    "        return 1\n",
    "    elif (row['Point Dif'] >= -1) & (row['Puck Line'] == 1.5):\n",
    "        return 1\n",
    "    else:\n",
    "        return 0\n",
    "\n",
    "def data_clean(df):\n",
    "    df = df.replace({'Team': {'Arizonas': 'Arizona', 'NewJersey': 'New Jersey', 'NYIslanders': 'NY Islanders', 'NYRangers': 'NY Rangers',  'SanJose': 'San Jose',  'St.Louis': 'St. Louis', 'TampaBay': 'Tampa Bay','LosAngeles':'Los Angeles'}})\n",
    "    p_dif = []\n",
    "    wins = []\n",
    "\n",
    "    # Iterate through table and calculate point dif and winners and insert into list \n",
    "    for i in range(1, df.shape[0], 2):\n",
    "        home_dif = df['Final'].iloc[i] - df['Final'].iloc[i-1]\n",
    "        away_dif = df['Final'].iloc[i-1] - df['Final'].iloc[i]\n",
    "        p_dif.append(away_dif)\n",
    "        p_dif.append(home_dif)\n",
    "            \n",
    "    # Add point dif column and data         \n",
    "    df['Point Dif'] = p_dif\n",
    "    df = df.reset_index()\n",
    "    # Create point differential column \n",
    "    line_move = []\n",
    "\n",
    "    # Iterate through table and calculate point dif and insert into list \n",
    "    for i in range(len(df)):\n",
    "        move = df['Open'].iloc[i] - df['Close'].iloc[i]\n",
    "        line_move.append(move)\n",
    "\n",
    "    # Add point dif column and data         \n",
    "    df['Line Mvmt'] = line_move\n",
    "    df = df.reset_index()\n",
    "    \n",
    "    # add the result column \n",
    "    df = df.assign(Win=df.apply(set_win, axis=1))\n",
    "    df = df.assign(Win_PL=df.apply(set_win_pl, axis=1)) \n",
    "    \n",
    "    goal_dict = {}\n",
    "    net_goals = []\n",
    "    win_dict = {}\n",
    "    wins = []\n",
    "\n",
    "    for i in df.iterrows():\n",
    "    #point difference\n",
    "        if i[1]['Team'] in goal_dict:\n",
    "            net_goals.append(goal_dict[i[1]['Team']])\n",
    "            goal_dict[i[1]['Team']] = goal_dict[i[1]['Team']] + int(i[1]['Point Dif'])\n",
    "        else:\n",
    "            goal_dict[i[1]['Team']] = int(i[1]['Point Dif'])\n",
    "            net_goals.append(0)\n",
    "            \n",
    "    df['net_goals'] = net_goals\n",
    "    return df"
   ]
  },
  {
   "cell_type": "code",
   "execution_count": null,
   "metadata": {},
   "outputs": [],
   "source": [
    "new_frames = []\n",
    "for frame in frames:\n",
    "    clean = data_clean(frame)\n",
    "    new_frames.append(clean)\n",
    "    \n",
    "df = pd.concat(new_frames)\n",
    "cols = [0,1]\n",
    "df.drop(df.columns[cols],axis=1,inplace=True)\n",
    "df"
   ]
  },
  {
   "cell_type": "code",
   "execution_count": null,
   "metadata": {},
   "outputs": [],
   "source": [
    "wd = {}\n",
    "w = []\n",
    "\n",
    "for i in df.iterrows():\n",
    "    #wins calculation\n",
    "        if i[1]['Team'] in wd:\n",
    "            w.append(wd[i[1]['Team']])\n",
    "            wd[i[1]['Team']] = wd[i[1]['Team']] + int(i[1]['Win'])\n",
    "        else:\n",
    "            wd[i[1]['Team']] = int(i[1]['Win'])\n",
    "            w.append(0)\n",
    "\n",
    "df['season_wins'] = w"
   ]
  },
  {
   "cell_type": "code",
   "execution_count": null,
   "metadata": {},
   "outputs": [],
   "source": [
    "df.to_csv('data.csv')"
   ]
  },
  {
   "cell_type": "markdown",
   "metadata": {},
   "source": [
    "# Cleaning Up the Dataframe"
   ]
  },
  {
   "cell_type": "code",
   "execution_count": null,
   "metadata": {},
   "outputs": [],
   "source": [
    "cols = [0,1,3,4,5,6,7,8,10,12,13,14,15,16]\n",
    "df.drop(df.columns[cols],axis=1,inplace=True)\n",
    "df"
   ]
  },
  {
   "cell_type": "code",
   "execution_count": null,
   "metadata": {},
   "outputs": [],
   "source": [
    "df = df.replace({'VH': {'V': 0, 'H': 1}})\n",
    "df = df.rename(columns={\"VH\": \"Home\",\"Close\": \"ML\", \"Unnamed: 11\": \"PL\"})\n",
    "df = df[[\"Home\", \"ML\", \"PL\", \"Line Mvmt\", \"net_goals\", \"season_wins\", \"Win\", \"Win_PL\"]]\n",
    "df = df.dropna()\n",
    "\n",
    "df"
   ]
  },
  {
   "cell_type": "code",
   "execution_count": null,
   "metadata": {},
   "outputs": [],
   "source": [
    "df.to_csv('final_df.csv')"
   ]
  },
  {
   "cell_type": "code",
   "execution_count": 2,
   "metadata": {},
   "outputs": [],
   "source": [
    "df = pd.read_csv('final_df.csv')"
   ]
  },
  {
   "cell_type": "markdown",
   "metadata": {},
   "source": [
    "# Random Forest Model"
   ]
  },
  {
   "cell_type": "code",
   "execution_count": 3,
   "metadata": {},
   "outputs": [],
   "source": [
    "#target = df[\"Win_PL\"]\n",
    "target = df[\"Win\"]\n",
    "target_names = [\"loss\", \"win\"]"
   ]
  },
  {
   "cell_type": "code",
   "execution_count": 4,
   "metadata": {},
   "outputs": [],
   "source": [
    "data = df.drop(columns=['Win', 'Win_PL'],axis=1)\n",
    "feature_names = data.columns"
   ]
  },
  {
   "cell_type": "code",
   "execution_count": 5,
   "metadata": {},
   "outputs": [],
   "source": [
    "from sklearn.model_selection import train_test_split\n",
    "\n",
    "X_train, X_test, y_train, y_test = train_test_split(data, target, random_state=42)"
   ]
  },
  {
   "cell_type": "code",
   "execution_count": null,
   "metadata": {},
   "outputs": [
    {
     "name": "stdout",
     "output_type": "stream",
     "text": [
      "Fitting 5 folds for each of 8 candidates, totalling 40 fits\n"
     ]
    },
    {
     "name": "stderr",
     "output_type": "stream",
     "text": [
      "[Parallel(n_jobs=-1)]: Using backend LokyBackend with 4 concurrent workers.\n"
     ]
    }
   ],
   "source": [
    "from sklearn.model_selection import GridSearchCV\n",
    "from sklearn.ensemble import RandomForestClassifier\n",
    "\n",
    "param_grid = {\n",
    "    'n_estimators': [170,180,190,200],\n",
    "    'criterion': ['gini','entropy']\n",
    "}\n",
    "\n",
    "grid = GridSearchCV(RandomForestClassifier(), param_grid, verbose=True, n_jobs=-1)\n",
    "\n",
    "grid.fit(X_train, y_train)"
   ]
  },
  {
   "cell_type": "code",
   "execution_count": null,
   "metadata": {},
   "outputs": [],
   "source": [
    "print(grid.best_params_)"
   ]
  },
  {
   "cell_type": "code",
   "execution_count": null,
   "metadata": {},
   "outputs": [],
   "source": [
    "from sklearn.ensemble import RandomForestClassifier\n",
    "rf = RandomForestClassifier(n_estimators=180,criterion='entropy')\n",
    "rf = rf.fit(X_train, y_train)\n",
    "rf.score(X_test, y_test)"
   ]
  },
  {
   "cell_type": "code",
   "execution_count": null,
   "metadata": {},
   "outputs": [],
   "source": [
    "sorted(zip(rf.feature_importances_, feature_names), reverse=True)"
   ]
  },
  {
   "cell_type": "markdown",
   "metadata": {},
   "source": [
    "# Deep Network"
   ]
  },
  {
   "cell_type": "code",
   "execution_count": null,
   "metadata": {},
   "outputs": [],
   "source": [
    "from tensorflow.keras.utils import to_categorical\n",
    "y_train_categorical = to_categorical(y_train)\n",
    "y_test_categorical = to_categorical(y_test)"
   ]
  },
  {
   "cell_type": "code",
   "execution_count": null,
   "metadata": {},
   "outputs": [],
   "source": [
    "from tensorflow.keras.models import Sequential\n",
    "from tensorflow.keras.layers import Dense\n",
    "\n",
    "deep_model = Sequential()\n",
    "deep_model.add(Dense(units=18, activation='relu', input_dim=6))\n",
    "deep_model.add(Dense(units=9, activation='relu'))\n",
    "deep_model.add(Dense(units=2, activation='softmax'))"
   ]
  },
  {
   "cell_type": "code",
   "execution_count": null,
   "metadata": {},
   "outputs": [],
   "source": [
    "deep_model.compile(optimizer='adam',\n",
    "                   loss='categorical_crossentropy',\n",
    "                   metrics=['accuracy'])"
   ]
  },
  {
   "cell_type": "code",
   "execution_count": null,
   "metadata": {},
   "outputs": [],
   "source": [
    "deep_model.fit(\n",
    "    X_train,\n",
    "    y_train_categorical,\n",
    "    epochs=50,\n",
    "    shuffle=True,\n",
    "    verbose=2\n",
    ")"
   ]
  },
  {
   "cell_type": "code",
   "execution_count": null,
   "metadata": {},
   "outputs": [],
   "source": [
    "model_loss, model_accuracy = deep_model.evaluate(\n",
    "    X_test, y_test_categorical, verbose=2)\n",
    "print(f\"Deep Neural Network - Loss: {model_loss}, Accuracy: {model_accuracy}\")"
   ]
  },
  {
   "cell_type": "code",
   "execution_count": null,
   "metadata": {},
   "outputs": [],
   "source": [
    "import pandas as pd\n",
    "import re"
   ]
  },
  {
   "cell_type": "code",
   "execution_count": null,
   "metadata": {},
   "outputs": [],
   "source": [
    "url = 'https://www.pro-football-reference.com/years/2007/games.htm'"
   ]
  },
  {
   "cell_type": "code",
   "execution_count": null,
   "metadata": {},
   "outputs": [],
   "source": [
    "tables = pd.read_html(url)\n",
    "tables"
   ]
  },
  {
   "cell_type": "code",
   "execution_count": null,
   "metadata": {},
   "outputs": [],
   "source": []
  }
 ],
 "metadata": {
  "kernelspec": {
   "display_name": "Python 3",
   "language": "python",
   "name": "python3"
  },
  "language_info": {
   "codemirror_mode": {
    "name": "ipython",
    "version": 3
   },
   "file_extension": ".py",
   "mimetype": "text/x-python",
   "name": "python",
   "nbconvert_exporter": "python",
   "pygments_lexer": "ipython3",
   "version": "3.6.10"
  }
 },
 "nbformat": 4,
 "nbformat_minor": 2
}
