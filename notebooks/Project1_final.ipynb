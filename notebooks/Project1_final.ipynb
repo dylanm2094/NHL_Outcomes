{
 "cells": [
  {
   "cell_type": "markdown",
   "metadata": {},
   "source": [
    "# Import Dependencies and data \n",
    "#### Read the data using pandas "
   ]
  },
  {
   "cell_type": "code",
   "execution_count": 1,
   "metadata": {},
   "outputs": [],
   "source": [
    "# Dependencies and Setup\n",
    "import matplotlib.pyplot as plt\n",
    "import pandas as pd\n",
    "import scipy.stats as st\n",
    "import numpy as np\n",
    "from sklearn import tree"
   ]
  },
  {
   "cell_type": "code",
   "execution_count": null,
   "metadata": {},
   "outputs": [],
   "source": [
    "# Study data files\n",
    "data1 = \"../Data/nhl odds 2014-15.csv\"\n",
    "data2 = \"../Data/nhl odds 2015-16.csv\"\n",
    "data3 = \"../Data/nhl odds 2016-17.csv\"\n",
    "data4 = \"../Data/nhl odds 2017-18.csv\"\n",
    "data5 = \"../Data/nhl odds 2018-19.csv\"\n",
    "data6 = \"../Data/nhl odds 2019-20.csv\"\n",
    "\n",
    "# Read the mouse data and the study results\n",
    "data1 = pd.read_csv(data1)\n",
    "data2 = pd.read_csv(data2)\n",
    "data3 = pd.read_csv(data3)\n",
    "data4 = pd.read_csv(data4)\n",
    "data5 = pd.read_csv(data5)\n",
    "data6 = pd.read_csv(data6)\n",
    "\n",
    "data6 = data6.rename(columns={\"PuckLine\": \"Puck Line\", \"OpenOU\": \"Open OU\", \"CloseOU\": \"Close OU\"})\n",
    "\n",
    "frames = [data1, data2, data3, data4, data5, data6]\n"
   ]
  },
  {
   "cell_type": "markdown",
   "metadata": {},
   "source": [
    "# Merge all the different seasons "
   ]
  },
  {
   "cell_type": "code",
   "execution_count": null,
   "metadata": {},
   "outputs": [],
   "source": [
    "def set_win(row):\n",
    "    if row['Point Dif'] > 0:\n",
    "        return 1\n",
    "    else:\n",
    "        return 0\n",
    "\n",
    "# Create row to see who won or loss by checking the point diferential was positive or negative.\n",
    "def set_win_pl(row):\n",
    "    if row['Point Dif'] >= 2:\n",
    "        return 1\n",
    "    elif (row['Point Dif'] >= -1) & (row['Puck Line'] == 1.5):\n",
    "        return 1\n",
    "    else:\n",
    "        return 0\n",
    "\n",
    "def data_clean(df):\n",
    "    df = df.replace({'Team': {'Arizonas': 'Arizona', 'NewJersey': 'New Jersey', 'NYIslanders': 'NY Islanders', 'NYRangers': 'NY Rangers',  'SanJose': 'San Jose',  'St.Louis': 'St. Louis', 'TampaBay': 'Tampa Bay','LosAngeles':'Los Angeles'}})\n",
    "    p_dif = []\n",
    "    wins = []\n",
    "\n",
    "    # Iterate through table and calculate point dif and winners and insert into list \n",
    "    for i in range(1, df.shape[0], 2):\n",
    "        home_dif = df['Final'].iloc[i] - df['Final'].iloc[i-1]\n",
    "        away_dif = df['Final'].iloc[i-1] - df['Final'].iloc[i]\n",
    "        p_dif.append(away_dif)\n",
    "        p_dif.append(home_dif)\n",
    "            \n",
    "    # Add point dif column and data         \n",
    "    df['Point Dif'] = p_dif\n",
    "    df = df.reset_index()\n",
    "    # Create point differential column \n",
    "    line_move = []\n",
    "\n",
    "    # Iterate through table and calculate point dif and insert into list \n",
    "    for i in range(len(df)):\n",
    "        move = df['Open'].iloc[i] - df['Close'].iloc[i]\n",
    "        line_move.append(move)\n",
    "\n",
    "    # Add point dif column and data         \n",
    "    df['Line Mvmt'] = line_move\n",
    "    df = df.reset_index()\n",
    "    \n",
    "    # add the result column \n",
    "    df = df.assign(Win=df.apply(set_win, axis=1))\n",
    "    df = df.assign(Win_PL=df.apply(set_win_pl, axis=1)) \n",
    "    \n",
    "    goal_dict = {}\n",
    "    net_goals = []\n",
    "    wd = {}\n",
    "    w = []    \n",
    "\n",
    "    for i in df.iterrows():\n",
    "    #point difference\n",
    "        if i[1]['Team'] in goal_dict:\n",
    "            net_goals.append(goal_dict[i[1]['Team']])\n",
    "            goal_dict[i[1]['Team']] = goal_dict[i[1]['Team']] + int(i[1]['Point Dif'])\n",
    "            w.append(wd[i[1]['Team']])\n",
    "            wd[i[1]['Team']] = wd[i[1]['Team']] + int(i[1]['Win'])\n",
    "        else:\n",
    "            goal_dict[i[1]['Team']] = int(i[1]['Point Dif'])\n",
    "            net_goals.append(0)\n",
    "            wd[i[1]['Team']] = int(i[1]['Win'])\n",
    "            w.append(0)\n",
    "    \n",
    "    df['season_wins'] = w        \n",
    "    df['net_goals'] = net_goals\n",
    "    return df"
   ]
  },
  {
   "cell_type": "code",
   "execution_count": null,
   "metadata": {},
   "outputs": [],
   "source": [
    "new_frames = []\n",
    "for frame in frames:\n",
    "    clean = data_clean(frame)\n",
    "    new_frames.append(clean)\n",
    "    \n",
    "df = pd.concat(new_frames)\n",
    "cols = [0,1]\n",
    "df.drop(df.columns[cols],axis=1,inplace=True)\n",
    "df"
   ]
  },
  {
   "cell_type": "code",
   "execution_count": null,
   "metadata": {},
   "outputs": [],
   "source": [
    "df.to_csv('data.csv')"
   ]
  },
  {
   "cell_type": "markdown",
   "metadata": {},
   "source": [
    "# Cleaning Up the Dataframe"
   ]
  },
  {
   "cell_type": "code",
   "execution_count": null,
   "metadata": {},
   "outputs": [],
   "source": [
    "cols = [0,1,3,4,5,6,7,8,10,12,13,14,15,16]\n",
    "df.drop(df.columns[cols],axis=1,inplace=True)\n",
    "df"
   ]
  },
  {
   "cell_type": "code",
   "execution_count": null,
   "metadata": {},
   "outputs": [],
   "source": [
    "df = df.replace({'VH': {'V': 0, 'H': 1}})\n",
    "df = df.rename(columns={\"VH\": \"Home\",\"Close\": \"ML\", \"Unnamed: 11\": \"PL\"})\n",
    "df = df[[\"Home\", \"ML\", \"PL\", \"Line Mvmt\", \"net_goals\", \"season_wins\", \"Win\", \"Win_PL\"]]\n",
    "df = df.dropna()\n",
    "\n",
    "df"
   ]
  },
  {
   "cell_type": "code",
   "execution_count": null,
   "metadata": {},
   "outputs": [],
   "source": [
    "df.to_csv('final_df.csv')"
   ]
  },
  {
   "cell_type": "code",
   "execution_count": 2,
   "metadata": {},
   "outputs": [
    {
     "data": {
      "text/html": [
       "<div>\n",
       "<style scoped>\n",
       "    .dataframe tbody tr th:only-of-type {\n",
       "        vertical-align: middle;\n",
       "    }\n",
       "\n",
       "    .dataframe tbody tr th {\n",
       "        vertical-align: top;\n",
       "    }\n",
       "\n",
       "    .dataframe thead th {\n",
       "        text-align: right;\n",
       "    }\n",
       "</style>\n",
       "<table border=\"1\" class=\"dataframe\">\n",
       "  <thead>\n",
       "    <tr style=\"text-align: right;\">\n",
       "      <th></th>\n",
       "      <th>Home</th>\n",
       "      <th>ML</th>\n",
       "      <th>PL</th>\n",
       "      <th>Line Mvmt</th>\n",
       "      <th>net_goals</th>\n",
       "      <th>season_wins</th>\n",
       "      <th>Win</th>\n",
       "      <th>Win_PL</th>\n",
       "    </tr>\n",
       "  </thead>\n",
       "  <tbody>\n",
       "    <tr>\n",
       "      <th>0</th>\n",
       "      <td>0</td>\n",
       "      <td>-105</td>\n",
       "      <td>-305.0</td>\n",
       "      <td>0</td>\n",
       "      <td>0</td>\n",
       "      <td>0</td>\n",
       "      <td>1</td>\n",
       "      <td>1</td>\n",
       "    </tr>\n",
       "    <tr>\n",
       "      <th>1</th>\n",
       "      <td>1</td>\n",
       "      <td>-115</td>\n",
       "      <td>250.0</td>\n",
       "      <td>0</td>\n",
       "      <td>0</td>\n",
       "      <td>0</td>\n",
       "      <td>0</td>\n",
       "      <td>0</td>\n",
       "    </tr>\n",
       "    <tr>\n",
       "      <th>2</th>\n",
       "      <td>0</td>\n",
       "      <td>165</td>\n",
       "      <td>-180.0</td>\n",
       "      <td>0</td>\n",
       "      <td>0</td>\n",
       "      <td>0</td>\n",
       "      <td>0</td>\n",
       "      <td>1</td>\n",
       "    </tr>\n",
       "    <tr>\n",
       "      <th>3</th>\n",
       "      <td>1</td>\n",
       "      <td>-185</td>\n",
       "      <td>155.0</td>\n",
       "      <td>-10</td>\n",
       "      <td>0</td>\n",
       "      <td>0</td>\n",
       "      <td>1</td>\n",
       "      <td>0</td>\n",
       "    </tr>\n",
       "    <tr>\n",
       "      <th>4</th>\n",
       "      <td>0</td>\n",
       "      <td>130</td>\n",
       "      <td>-240.0</td>\n",
       "      <td>-29</td>\n",
       "      <td>0</td>\n",
       "      <td>0</td>\n",
       "      <td>1</td>\n",
       "      <td>1</td>\n",
       "    </tr>\n",
       "    <tr>\n",
       "      <th>...</th>\n",
       "      <td>...</td>\n",
       "      <td>...</td>\n",
       "      <td>...</td>\n",
       "      <td>...</td>\n",
       "      <td>...</td>\n",
       "      <td>...</td>\n",
       "      <td>...</td>\n",
       "      <td>...</td>\n",
       "    </tr>\n",
       "    <tr>\n",
       "      <th>15489</th>\n",
       "      <td>1</td>\n",
       "      <td>-146</td>\n",
       "      <td>170.0</td>\n",
       "      <td>-19</td>\n",
       "      <td>45</td>\n",
       "      <td>41</td>\n",
       "      <td>1</td>\n",
       "      <td>0</td>\n",
       "    </tr>\n",
       "    <tr>\n",
       "      <th>15490</th>\n",
       "      <td>0</td>\n",
       "      <td>145</td>\n",
       "      <td>-180.0</td>\n",
       "      <td>-5</td>\n",
       "      <td>-51</td>\n",
       "      <td>25</td>\n",
       "      <td>0</td>\n",
       "      <td>1</td>\n",
       "    </tr>\n",
       "    <tr>\n",
       "      <th>15491</th>\n",
       "      <td>1</td>\n",
       "      <td>-160</td>\n",
       "      <td>160.0</td>\n",
       "      <td>0</td>\n",
       "      <td>-35</td>\n",
       "      <td>28</td>\n",
       "      <td>1</td>\n",
       "      <td>0</td>\n",
       "    </tr>\n",
       "    <tr>\n",
       "      <th>15492</th>\n",
       "      <td>0</td>\n",
       "      <td>-200</td>\n",
       "      <td>115.0</td>\n",
       "      <td>23</td>\n",
       "      <td>30</td>\n",
       "      <td>41</td>\n",
       "      <td>1</td>\n",
       "      <td>1</td>\n",
       "    </tr>\n",
       "    <tr>\n",
       "      <th>15493</th>\n",
       "      <td>1</td>\n",
       "      <td>180</td>\n",
       "      <td>-135.0</td>\n",
       "      <td>-28</td>\n",
       "      <td>-37</td>\n",
       "      <td>29</td>\n",
       "      <td>0</td>\n",
       "      <td>0</td>\n",
       "    </tr>\n",
       "  </tbody>\n",
       "</table>\n",
       "<p>15494 rows × 8 columns</p>\n",
       "</div>"
      ],
      "text/plain": [
       "       Home   ML     PL  Line Mvmt  net_goals  season_wins  Win  Win_PL\n",
       "0         0 -105 -305.0          0          0            0    1       1\n",
       "1         1 -115  250.0          0          0            0    0       0\n",
       "2         0  165 -180.0          0          0            0    0       1\n",
       "3         1 -185  155.0        -10          0            0    1       0\n",
       "4         0  130 -240.0        -29          0            0    1       1\n",
       "...     ...  ...    ...        ...        ...          ...  ...     ...\n",
       "15489     1 -146  170.0        -19         45           41    1       0\n",
       "15490     0  145 -180.0         -5        -51           25    0       1\n",
       "15491     1 -160  160.0          0        -35           28    1       0\n",
       "15492     0 -200  115.0         23         30           41    1       1\n",
       "15493     1  180 -135.0        -28        -37           29    0       0\n",
       "\n",
       "[15494 rows x 8 columns]"
      ]
     },
     "execution_count": 2,
     "metadata": {},
     "output_type": "execute_result"
    }
   ],
   "source": [
    "df = pd.read_csv('final_df.csv')\n",
    "cols = [0]\n",
    "df.drop(df.columns[cols],axis=1,inplace=True)\n",
    "df"
   ]
  },
  {
   "cell_type": "markdown",
   "metadata": {},
   "source": [
    "# Random Forest Model"
   ]
  },
  {
   "cell_type": "code",
   "execution_count": 3,
   "metadata": {},
   "outputs": [],
   "source": [
    "#target = df[\"Win_PL\"]\n",
    "target = df[\"Win\"]\n",
    "target_names = [\"loss\", \"win\"]"
   ]
  },
  {
   "cell_type": "code",
   "execution_count": 4,
   "metadata": {},
   "outputs": [],
   "source": [
    "data = df.drop(columns=['Win', 'Win_PL'],axis=1)\n",
    "feature_names = data.columns"
   ]
  },
  {
   "cell_type": "code",
   "execution_count": 5,
   "metadata": {},
   "outputs": [],
   "source": [
    "from sklearn.model_selection import train_test_split\n",
    "\n",
    "X_train, X_test, y_train, y_test = train_test_split(data, target, random_state=42)"
   ]
  },
  {
   "cell_type": "code",
   "execution_count": 6,
   "metadata": {},
   "outputs": [
    {
     "name": "stdout",
     "output_type": "stream",
     "text": [
      "Fitting 5 folds for each of 10 candidates, totalling 50 fits\n"
     ]
    },
    {
     "name": "stderr",
     "output_type": "stream",
     "text": [
      "[Parallel(n_jobs=-1)]: Using backend LokyBackend with 4 concurrent workers.\n",
      "[Parallel(n_jobs=-1)]: Done  42 tasks      | elapsed:   48.6s\n",
      "[Parallel(n_jobs=-1)]: Done  50 out of  50 | elapsed:   58.8s finished\n"
     ]
    },
    {
     "data": {
      "text/plain": [
       "GridSearchCV(estimator=RandomForestClassifier(), n_jobs=-1,\n",
       "             param_grid={'criterion': ['gini', 'entropy'],\n",
       "                         'n_estimators': [180, 190, 200, 210, 220]},\n",
       "             verbose=True)"
      ]
     },
     "execution_count": 6,
     "metadata": {},
     "output_type": "execute_result"
    }
   ],
   "source": [
    "from sklearn.model_selection import GridSearchCV\n",
    "from sklearn.ensemble import RandomForestClassifier\n",
    "\n",
    "param_grid = {\n",
    "    'n_estimators': [180,190,200,210,220],\n",
    "    'criterion': ['gini','entropy']\n",
    "}\n",
    "\n",
    "grid = GridSearchCV(RandomForestClassifier(), param_grid, verbose=True, n_jobs=-1)\n",
    "\n",
    "grid.fit(X_train, y_train)"
   ]
  },
  {
   "cell_type": "code",
   "execution_count": 7,
   "metadata": {},
   "outputs": [
    {
     "name": "stdout",
     "output_type": "stream",
     "text": [
      "{'criterion': 'entropy', 'n_estimators': 210}\n"
     ]
    }
   ],
   "source": [
    "print(grid.best_params_)"
   ]
  },
  {
   "cell_type": "code",
   "execution_count": 8,
   "metadata": {},
   "outputs": [
    {
     "data": {
      "text/plain": [
       "0.5529168817759422"
      ]
     },
     "execution_count": 8,
     "metadata": {},
     "output_type": "execute_result"
    }
   ],
   "source": [
    "from sklearn.ensemble import RandomForestClassifier\n",
    "rf = RandomForestClassifier(n_estimators=210,criterion='entropy')\n",
    "rf = rf.fit(X_train, y_train)\n",
    "rf.score(X_test, y_test)"
   ]
  },
  {
   "cell_type": "code",
   "execution_count": 9,
   "metadata": {},
   "outputs": [
    {
     "data": {
      "text/plain": [
       "[(0.2192946781355956, 'net_goals'),\n",
       " (0.1993721232336998, 'Line Mvmt'),\n",
       " (0.19917100485432349, 'season_wins'),\n",
       " (0.18519142027159044, 'ML'),\n",
       " (0.17490344457169538, 'PL'),\n",
       " (0.022067328933095345, 'Home')]"
      ]
     },
     "execution_count": 9,
     "metadata": {},
     "output_type": "execute_result"
    }
   ],
   "source": [
    "sorted(zip(rf.feature_importances_, feature_names), reverse=True)"
   ]
  },
  {
   "cell_type": "markdown",
   "metadata": {},
   "source": [
    "# Deep Network"
   ]
  },
  {
   "cell_type": "code",
   "execution_count": 10,
   "metadata": {},
   "outputs": [],
   "source": [
    "from tensorflow.keras.utils import to_categorical\n",
    "y_train_categorical = to_categorical(y_train)\n",
    "y_test_categorical = to_categorical(y_test)"
   ]
  },
  {
   "cell_type": "code",
   "execution_count": 11,
   "metadata": {},
   "outputs": [],
   "source": [
    "from tensorflow.keras.models import Sequential\n",
    "from tensorflow.keras.layers import Dense\n",
    "\n",
    "deep_model = Sequential()\n",
    "deep_model.add(Dense(units=18, activation='relu', input_dim=6))\n",
    "deep_model.add(Dense(units=9, activation='relu'))\n",
    "deep_model.add(Dense(units=2, activation='softmax'))"
   ]
  },
  {
   "cell_type": "code",
   "execution_count": 12,
   "metadata": {},
   "outputs": [],
   "source": [
    "deep_model.compile(optimizer='adam',\n",
    "                   loss='categorical_crossentropy',\n",
    "                   metrics=['accuracy'])"
   ]
  },
  {
   "cell_type": "code",
   "execution_count": 13,
   "metadata": {},
   "outputs": [
    {
     "name": "stdout",
     "output_type": "stream",
     "text": [
      "WARNING:tensorflow:Falling back from v2 loop because of error: Failed to find data adapter that can handle input: <class 'pandas.core.frame.DataFrame'>, <class 'NoneType'>\n",
      "Train on 11620 samples\n",
      "Epoch 1/50\n",
      "11620/11620 - 1s - loss: 1.1660 - accuracy: 0.5498\n",
      "Epoch 2/50\n",
      "11620/11620 - 1s - loss: 0.7451 - accuracy: 0.5598\n",
      "Epoch 3/50\n",
      "11620/11620 - 1s - loss: 0.7243 - accuracy: 0.5639\n",
      "Epoch 4/50\n",
      "11620/11620 - 1s - loss: 0.7159 - accuracy: 0.5628\n",
      "Epoch 5/50\n",
      "11620/11620 - 1s - loss: 0.7190 - accuracy: 0.5595\n",
      "Epoch 6/50\n",
      "11620/11620 - 1s - loss: 0.7076 - accuracy: 0.5695\n",
      "Epoch 7/50\n",
      "11620/11620 - 1s - loss: 0.7074 - accuracy: 0.5668\n",
      "Epoch 8/50\n",
      "11620/11620 - 1s - loss: 0.7009 - accuracy: 0.5662\n",
      "Epoch 9/50\n",
      "11620/11620 - 1s - loss: 0.7030 - accuracy: 0.5672\n",
      "Epoch 10/50\n",
      "11620/11620 - 1s - loss: 0.6930 - accuracy: 0.5728\n",
      "Epoch 11/50\n",
      "11620/11620 - 1s - loss: 0.6946 - accuracy: 0.5721\n",
      "Epoch 12/50\n",
      "11620/11620 - 1s - loss: 0.6914 - accuracy: 0.5710\n",
      "Epoch 13/50\n",
      "11620/11620 - 1s - loss: 0.6938 - accuracy: 0.5682\n",
      "Epoch 14/50\n",
      "11620/11620 - 1s - loss: 0.6911 - accuracy: 0.5698\n",
      "Epoch 15/50\n",
      "11620/11620 - 1s - loss: 0.6880 - accuracy: 0.5703\n",
      "Epoch 16/50\n",
      "11620/11620 - 1s - loss: 0.6848 - accuracy: 0.5734\n",
      "Epoch 17/50\n",
      "11620/11620 - 1s - loss: 0.6867 - accuracy: 0.5744\n",
      "Epoch 18/50\n",
      "11620/11620 - 1s - loss: 0.6870 - accuracy: 0.5744\n",
      "Epoch 19/50\n",
      "11620/11620 - 1s - loss: 0.6866 - accuracy: 0.5728\n",
      "Epoch 20/50\n",
      "11620/11620 - 1s - loss: 0.6895 - accuracy: 0.5701\n",
      "Epoch 21/50\n",
      "11620/11620 - 1s - loss: 0.6898 - accuracy: 0.5647\n",
      "Epoch 22/50\n",
      "11620/11620 - 1s - loss: 0.6843 - accuracy: 0.5762\n",
      "Epoch 23/50\n",
      "11620/11620 - 1s - loss: 0.6874 - accuracy: 0.5739\n",
      "Epoch 24/50\n",
      "11620/11620 - 1s - loss: 0.6854 - accuracy: 0.5701\n",
      "Epoch 25/50\n",
      "11620/11620 - 1s - loss: 0.6847 - accuracy: 0.5723\n",
      "Epoch 26/50\n",
      "11620/11620 - 1s - loss: 0.6821 - accuracy: 0.5769\n",
      "Epoch 27/50\n",
      "11620/11620 - 1s - loss: 0.6887 - accuracy: 0.5694\n",
      "Epoch 28/50\n",
      "11620/11620 - 1s - loss: 0.6855 - accuracy: 0.5726\n",
      "Epoch 29/50\n",
      "11620/11620 - 1s - loss: 0.6806 - accuracy: 0.5772\n",
      "Epoch 30/50\n",
      "11620/11620 - 1s - loss: 0.6854 - accuracy: 0.5737\n",
      "Epoch 31/50\n",
      "11620/11620 - 1s - loss: 0.6811 - accuracy: 0.5769\n",
      "Epoch 32/50\n",
      "11620/11620 - 1s - loss: 0.6860 - accuracy: 0.5758\n",
      "Epoch 33/50\n",
      "11620/11620 - 1s - loss: 0.6833 - accuracy: 0.5716\n",
      "Epoch 34/50\n",
      "11620/11620 - 1s - loss: 0.6834 - accuracy: 0.5737\n",
      "Epoch 35/50\n",
      "11620/11620 - 1s - loss: 0.6813 - accuracy: 0.5718\n",
      "Epoch 36/50\n",
      "11620/11620 - 1s - loss: 0.6793 - accuracy: 0.5724\n",
      "Epoch 37/50\n",
      "11620/11620 - 1s - loss: 0.6846 - accuracy: 0.5720\n",
      "Epoch 38/50\n",
      "11620/11620 - 1s - loss: 0.6797 - accuracy: 0.5737\n",
      "Epoch 39/50\n",
      "11620/11620 - 1s - loss: 0.6812 - accuracy: 0.5775\n",
      "Epoch 40/50\n",
      "11620/11620 - 1s - loss: 0.6829 - accuracy: 0.5712\n",
      "Epoch 41/50\n",
      "11620/11620 - 1s - loss: 0.6805 - accuracy: 0.5738\n",
      "Epoch 42/50\n",
      "11620/11620 - 1s - loss: 0.6785 - accuracy: 0.5762\n",
      "Epoch 43/50\n",
      "11620/11620 - 1s - loss: 0.6798 - accuracy: 0.5779\n",
      "Epoch 44/50\n",
      "11620/11620 - 1s - loss: 0.6823 - accuracy: 0.5732\n",
      "Epoch 45/50\n",
      "11620/11620 - 1s - loss: 0.6787 - accuracy: 0.5756\n",
      "Epoch 46/50\n",
      "11620/11620 - 1s - loss: 0.6801 - accuracy: 0.5759\n",
      "Epoch 47/50\n",
      "11620/11620 - 1s - loss: 0.6796 - accuracy: 0.5738\n",
      "Epoch 48/50\n",
      "11620/11620 - 1s - loss: 0.6778 - accuracy: 0.5756\n",
      "Epoch 49/50\n",
      "11620/11620 - 1s - loss: 0.6792 - accuracy: 0.5715\n",
      "Epoch 50/50\n",
      "11620/11620 - 1s - loss: 0.6775 - accuracy: 0.5749\n"
     ]
    },
    {
     "data": {
      "text/plain": [
       "<tensorflow.python.keras.callbacks.History at 0x1a4f59d198>"
      ]
     },
     "execution_count": 13,
     "metadata": {},
     "output_type": "execute_result"
    }
   ],
   "source": [
    "deep_model.fit(\n",
    "    X_train,\n",
    "    y_train_categorical,\n",
    "    epochs=50,\n",
    "    shuffle=True,\n",
    "    verbose=2\n",
    ")"
   ]
  },
  {
   "cell_type": "code",
   "execution_count": 14,
   "metadata": {},
   "outputs": [
    {
     "name": "stdout",
     "output_type": "stream",
     "text": [
      "WARNING:tensorflow:Falling back from v2 loop because of error: Failed to find data adapter that can handle input: <class 'pandas.core.frame.DataFrame'>, <class 'NoneType'>\n",
      "3874/3874 - 0s - loss: 0.6899 - accuracy: 0.5782\n",
      "Deep Neural Network - Loss: 0.6899098299124466, Accuracy: 0.5782137513160706\n"
     ]
    }
   ],
   "source": [
    "model_loss, model_accuracy = deep_model.evaluate(\n",
    "    X_test, y_test_categorical, verbose=2)\n",
    "print(f\"Deep Neural Network - Loss: {model_loss}, Accuracy: {model_accuracy}\")"
   ]
  },
  {
   "cell_type": "code",
   "execution_count": null,
   "metadata": {},
   "outputs": [],
   "source": [
    "import pandas as pd\n",
    "import re"
   ]
  },
  {
   "cell_type": "code",
   "execution_count": null,
   "metadata": {},
   "outputs": [],
   "source": [
    "url = 'https://www.pro-football-reference.com/years/2007/games.htm'"
   ]
  },
  {
   "cell_type": "code",
   "execution_count": null,
   "metadata": {},
   "outputs": [],
   "source": [
    "tables = pd.read_html(url)\n",
    "tables"
   ]
  },
  {
   "cell_type": "code",
   "execution_count": null,
   "metadata": {},
   "outputs": [],
   "source": []
  }
 ],
 "metadata": {
  "kernelspec": {
   "display_name": "Python 3",
   "language": "python",
   "name": "python3"
  },
  "language_info": {
   "codemirror_mode": {
    "name": "ipython",
    "version": 3
   },
   "file_extension": ".py",
   "mimetype": "text/x-python",
   "name": "python",
   "nbconvert_exporter": "python",
   "pygments_lexer": "ipython3",
   "version": "3.6.10"
  }
 },
 "nbformat": 4,
 "nbformat_minor": 2
}
